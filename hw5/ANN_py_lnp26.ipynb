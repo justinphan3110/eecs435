{
  "nbformat": 4,
  "nbformat_minor": 0,
  "metadata": {
    "kernelspec": {
      "display_name": "Python 3",
      "language": "python",
      "name": "python3"
    },
    "language_info": {
      "codemirror_mode": {
        "name": "ipython",
        "version": 3
      },
      "file_extension": ".py",
      "mimetype": "text/x-python",
      "name": "python",
      "nbconvert_exporter": "python",
      "pygments_lexer": "ipython3",
      "version": "3.8.5"
    },
    "colab": {
      "name": "ANN.py.ipynb",
      "provenance": []
    }
  },
  "cells": [
    {
      "cell_type": "code",
      "metadata": {
        "id": "0-6RrKtlN9pK"
      },
      "source": [
        "input_ = [[0.6, 0.1], [0.2, 0.3]]\n",
        "\n",
        "label = [[1, 0], [0, 1]]\n"
      ],
      "execution_count": 1,
      "outputs": []
    },
    {
      "cell_type": "code",
      "metadata": {
        "id": "8DvxxyhvN9pM"
      },
      "source": [
        "import numpy as np\n",
        "import torch\n"
      ],
      "execution_count": 3,
      "outputs": []
    },
    {
      "cell_type": "code",
      "metadata": {
        "id": "DabgEbNeN9pN"
      },
      "source": [
        "def init_weight():\n",
        "    w1 = [[0.1, 0, 0.3], [-0.2, 0.2, -0.4]]\n",
        "    w2 = [[-0.4, 0.2], [0.1, -0.1], [0.6, -0.2]]\n",
        "    b1 = [0.1, 0.2, 0.5]\n",
        "    b2 = [-0.1, 0.6]\n",
        "\n",
        "    w1 = np.asarray(w1)\n",
        "    w2 = np.asarray(w2)\n",
        "    b1 = np.asarray(b1)\n",
        "    b2 = np.asarray(b2)\n",
        "    \n",
        "    return w1, w2, b1, b2"
      ],
      "execution_count": 4,
      "outputs": []
    },
    {
      "cell_type": "code",
      "metadata": {
        "id": "zry3_9s8N9pN"
      },
      "source": [
        "w1, w2, b1, b2 = init_weight()"
      ],
      "execution_count": 5,
      "outputs": []
    },
    {
      "cell_type": "code",
      "metadata": {
        "id": "QJHbBV_1N9pO"
      },
      "source": [
        "learning_rate = 0.1"
      ],
      "execution_count": 6,
      "outputs": []
    },
    {
      "cell_type": "code",
      "metadata": {
        "id": "gZRlQD-2N9pO"
      },
      "source": [
        "def sigmoid( X):\n",
        "    return (1 / (1 + np.exp(-X)))"
      ],
      "execution_count": 7,
      "outputs": []
    },
    {
      "cell_type": "code",
      "metadata": {
        "id": "rJoGCnobN9pP"
      },
      "source": [
        "def sigmoid_prime(X):\n",
        "    return X * (1 - X)"
      ],
      "execution_count": 8,
      "outputs": []
    },
    {
      "cell_type": "code",
      "metadata": {
        "id": "cnU8di9fN9pP"
      },
      "source": [
        "epochs = 1"
      ],
      "execution_count": 9,
      "outputs": []
    },
    {
      "cell_type": "code",
      "metadata": {
        "id": "Pn-62IKFN9pP"
      },
      "source": [
        "def forward_propagation(input_, w1, w2, b1, b2):\n",
        "    l1 = sigmoid(np.dot(input_, w1)) + b1\n",
        "    l2 = sigmoid(np.dot(l1, w2)) + b2\n",
        "    return l1, l2"
      ],
      "execution_count": 10,
      "outputs": []
    },
    {
      "cell_type": "code",
      "metadata": {
        "id": "96RKTbBaN9pQ"
      },
      "source": [
        "def network_error(label, l):\n",
        "    return label - l"
      ],
      "execution_count": 11,
      "outputs": []
    },
    {
      "cell_type": "code",
      "metadata": {
        "id": "_x60PRFCN9pQ"
      },
      "source": [
        "def backpropagation(input_, label, w1, w2, b1, b2, l1, l2):\n",
        "    error = network_error(label, l2)\n",
        "    \n",
        "    d_l2 = error * sigmoid_prime(l2)\n",
        "    d_l1 = d_l2.dot(w2.T) * sigmoid_prime(l1)\n",
        "    \n",
        "    w2 = np.add(w2, np.array(l1).transpose().dot(d_l2) * learning_rate)\n",
        "    w1 = np.add(w1, np.array(input_).transpose().dot(d_l1) * learning_rate)\n",
        "    \n",
        "    return w1, w2, b1, b2"
      ],
      "execution_count": 48,
      "outputs": []
    },
    {
      "cell_type": "code",
      "metadata": {
        "colab": {
          "base_uri": "https://localhost:8080/"
        },
        "id": "TTgmd6afN9pQ",
        "outputId": "8c23bad9-a12e-43b9-84d7-b456a3adf3bf"
      },
      "source": [
        "for i in range(epochs):\n",
        "    l1, l2 = forward_propagation(input_, w1, w2, b1, b2)\n",
        "    w1, w2, b1, b2 = backpropagation(input_, label, w1, w2, b1, b2, l1, l2)\n",
        "    \n",
        "    print('w1_3' , w1[0][0])\n",
        "    print('w1_4' , w1[0][1])\n",
        "    print('w1_5' , w1[0][2])\n",
        "    print('w2_3' , w1[1][0])\n",
        "    print('w2_4' , w1[1][1])\n",
        "    print('w2_5' , w1[1][2])\n",
        "    print('w3_6' , w2[0][0])\n",
        "    print('w3_7' , w2[0][1])\n",
        "    print('w4_6' , w2[1][0])\n",
        "    print('w4_7' , w2[1][1])\n",
        "    print('w5_6' , w2[2][0])\n",
        "    print('w5_7' , w2[2][1])\n",
        "\n",
        "    print()\n",
        "    print('b3' , b1[0])\n",
        "    print('b4' , b1[1])\n",
        "    print('b5' , b1[2])\n",
        "    print('b6' , b2[0])\n",
        "    print('b7' , b2[1])\n"
      ],
      "execution_count": 49,
      "outputs": [
        {
          "output_type": "stream",
          "text": [
            "w1_3 0.09893152038899343\n",
            "w1_4 6.071243014139974e-05\n",
            "w1_5 0.2992455239947977\n",
            "w2_3 -0.19851397947022342\n",
            "w2_4 0.19965732599305291\n",
            "w2_5 -0.4002771485661844\n",
            "w3_6 -0.39990044130352226\n",
            "w3_7 0.225514188949509\n",
            "w4_6 0.0980313386641737\n",
            "w4_7 -0.07042284441296914\n",
            "w5_6 0.6011860234963415\n",
            "w5_7 -0.15675201715625647\n",
            "\n",
            "b3 0.1\n",
            "b4 0.2\n",
            "b5 0.5\n",
            "b6 -0.1\n",
            "b7 0.6\n"
          ],
          "name": "stdout"
        }
      ]
    },
    {
      "cell_type": "code",
      "metadata": {
        "id": "QrVQh8EMN9pR"
      },
      "source": [
        ""
      ],
      "execution_count": null,
      "outputs": []
    },
    {
      "cell_type": "code",
      "metadata": {
        "id": "9TPnaCA0N9pR"
      },
      "source": [
        ""
      ],
      "execution_count": null,
      "outputs": []
    }
  ]
}